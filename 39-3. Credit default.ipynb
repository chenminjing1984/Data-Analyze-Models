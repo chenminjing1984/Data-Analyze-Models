{
 "cells": [
  {
   "cell_type": "code",
   "execution_count": 2,
   "metadata": {},
   "outputs": [],
   "source": [
    "import pandas as pd\n",
    "from sklearn.model_selection import learning_curve, train_test_split, GridSearchCV\n",
    "from sklearn.preprocessing import StandardScaler\n",
    "from sklearn.pipeline import Pipeline\n",
    "from sklearn.metrics import accuracy_score\n",
    "from sklearn.svm import SVC\n",
    "from sklearn.tree import DecisionTreeClassifier\n",
    "from sklearn.ensemble import RandomForestClassifier\n",
    "from sklearn.neighbors import KNeighborsClassifier\n",
    "from matplotlib import pyplot as plt\n",
    "import seaborn as sns"
   ]
  },
  {
   "cell_type": "code",
   "execution_count": 12,
   "metadata": {},
   "outputs": [
    {
     "name": "stdout",
     "output_type": "stream",
     "text": [
      "(30000, 25)\n",
      "                 ID       LIMIT_BAL           SEX     EDUCATION      MARRIAGE  \\\n",
      "count  30000.000000    30000.000000  30000.000000  30000.000000  30000.000000   \n",
      "mean   15000.500000   167484.322667      1.603733      1.853133      1.551867   \n",
      "std     8660.398374   129747.661567      0.489129      0.790349      0.521970   \n",
      "min        1.000000    10000.000000      1.000000      0.000000      0.000000   \n",
      "25%     7500.750000    50000.000000      1.000000      1.000000      1.000000   \n",
      "50%    15000.500000   140000.000000      2.000000      2.000000      2.000000   \n",
      "75%    22500.250000   240000.000000      2.000000      2.000000      2.000000   \n",
      "max    30000.000000  1000000.000000      2.000000      6.000000      3.000000   \n",
      "\n",
      "                AGE         PAY_0         PAY_2         PAY_3         PAY_4  \\\n",
      "count  30000.000000  30000.000000  30000.000000  30000.000000  30000.000000   \n",
      "mean      35.485500     -0.016700     -0.133767     -0.166200     -0.220667   \n",
      "std        9.217904      1.123802      1.197186      1.196868      1.169139   \n",
      "min       21.000000     -2.000000     -2.000000     -2.000000     -2.000000   \n",
      "25%       28.000000     -1.000000     -1.000000     -1.000000     -1.000000   \n",
      "50%       34.000000      0.000000      0.000000      0.000000      0.000000   \n",
      "75%       41.000000      0.000000      0.000000      0.000000      0.000000   \n",
      "max       79.000000      8.000000      8.000000      8.000000      8.000000   \n",
      "\n",
      "                  ...                  BILL_AMT4      BILL_AMT5  \\\n",
      "count             ...               30000.000000   30000.000000   \n",
      "mean              ...               43262.948967   40311.400967   \n",
      "std               ...               64332.856134   60797.155770   \n",
      "min               ...             -170000.000000  -81334.000000   \n",
      "25%               ...                2326.750000    1763.000000   \n",
      "50%               ...               19052.000000   18104.500000   \n",
      "75%               ...               54506.000000   50190.500000   \n",
      "max               ...              891586.000000  927171.000000   \n",
      "\n",
      "           BILL_AMT6       PAY_AMT1      PAY_AMT2      PAY_AMT3  \\\n",
      "count   30000.000000   30000.000000  3.000000e+04   30000.00000   \n",
      "mean    38871.760400    5663.580500  5.921163e+03    5225.68150   \n",
      "std     59554.107537   16563.280354  2.304087e+04   17606.96147   \n",
      "min   -339603.000000       0.000000  0.000000e+00       0.00000   \n",
      "25%      1256.000000    1000.000000  8.330000e+02     390.00000   \n",
      "50%     17071.000000    2100.000000  2.009000e+03    1800.00000   \n",
      "75%     49198.250000    5006.000000  5.000000e+03    4505.00000   \n",
      "max    961664.000000  873552.000000  1.684259e+06  896040.00000   \n",
      "\n",
      "            PAY_AMT4       PAY_AMT5       PAY_AMT6  default.payment.next.month  \n",
      "count   30000.000000   30000.000000   30000.000000                30000.000000  \n",
      "mean     4826.076867    4799.387633    5215.502567                    0.221200  \n",
      "std     15666.159744   15278.305679   17777.465775                    0.415062  \n",
      "min         0.000000       0.000000       0.000000                    0.000000  \n",
      "25%       296.000000     252.500000     117.750000                    0.000000  \n",
      "50%      1500.000000    1500.000000    1500.000000                    0.000000  \n",
      "75%      4013.250000    4031.500000    4000.000000                    0.000000  \n",
      "max    621000.000000  426529.000000  528666.000000                    1.000000  \n",
      "\n",
      "[8 rows x 25 columns]\n"
     ]
    }
   ],
   "source": [
    "data = pd.read_csv('UCI_Credit_Card.csv')\n",
    "print(data.shape)\n",
    "print(data.describe())"
   ]
  },
  {
   "cell_type": "code",
   "execution_count": 13,
   "metadata": {},
   "outputs": [
    {
     "name": "stdout",
     "output_type": "stream",
     "text": [
      "0    23364\n",
      "1     6636\n",
      "Name: default.payment.next.month, dtype: int64\n"
     ]
    }
   ],
   "source": [
    "next_month = data['default.payment.next.month'].value_counts()\n",
    "print(next_month) #chek the default and no-default quantity for next month"
   ]
  },
  {
   "cell_type": "code",
   "execution_count": 21,
   "metadata": {},
   "outputs": [
    {
     "data": {
      "text/html": [
       "<div>\n",
       "<style scoped>\n",
       "    .dataframe tbody tr th:only-of-type {\n",
       "        vertical-align: middle;\n",
       "    }\n",
       "\n",
       "    .dataframe tbody tr th {\n",
       "        vertical-align: top;\n",
       "    }\n",
       "\n",
       "    .dataframe thead th {\n",
       "        text-align: right;\n",
       "    }\n",
       "</style>\n",
       "<table border=\"1\" class=\"dataframe\">\n",
       "  <thead>\n",
       "    <tr style=\"text-align: right;\">\n",
       "      <th></th>\n",
       "      <th>default.payment.next.month</th>\n",
       "      <th>values</th>\n",
       "    </tr>\n",
       "  </thead>\n",
       "  <tbody>\n",
       "    <tr>\n",
       "      <th>0</th>\n",
       "      <td>0</td>\n",
       "      <td>23364</td>\n",
       "    </tr>\n",
       "    <tr>\n",
       "      <th>1</th>\n",
       "      <td>1</td>\n",
       "      <td>6636</td>\n",
       "    </tr>\n",
       "  </tbody>\n",
       "</table>\n",
       "</div>"
      ],
      "text/plain": [
       "   default.payment.next.month  values\n",
       "0                           0   23364\n",
       "1                           1    6636"
      ]
     },
     "execution_count": 21,
     "metadata": {},
     "output_type": "execute_result"
    }
   ],
   "source": [
    "df = pd.DataFrame({'default.payment.next.month':next_month.index,'values': next_month.values})\n",
    "df"
   ]
  },
  {
   "cell_type": "code",
   "execution_count": 33,
   "metadata": {},
   "outputs": [
    {
     "data": {
      "image/png": "[encoded data removed]",
      "text/plain": [
       "<Figure size 432x432 with 1 Axes>"
      ]
     },
     "metadata": {
      "needs_background": "light"
     },
     "output_type": "display_data"
    }
   ],
   "source": [
    "plt.rcParams['font.sans-serif'] = ['SimHei']\n",
    "plt.figure(figsize = (6,6))\n",
    "plt.title(\"信用卡违约率客户\\n(违约：1，守约：0)\")\n",
    "sns.set_color_codes('pastel')\n",
    "sns.barplot(x='default.payment.next.month', y='values', data=df)\n",
    "locs, labels = plt.xticks()\n",
    "plt.show()"
   ]
  },
  {
   "cell_type": "code",
   "execution_count": 35,
   "metadata": {},
   "outputs": [],
   "source": [
    "data.drop(['ID'], inplace=True, axis = 1)"
   ]
  },
  {
   "cell_type": "code",
   "execution_count": 46,
   "metadata": {},
   "outputs": [],
   "source": [
    "target = data['default.payment.next.month'].values\n",
    "columns = data.columns.tolist()\n",
    "columns.remove('default.payment.next.month')\n",
    "features = data[columns].values"
   ]
  },
  {
   "cell_type": "code",
   "execution_count": 60,
   "metadata": {},
   "outputs": [],
   "source": [
    "train_x, test_x, train_y, test_y = train_test_split(features, target, test_size=0.3, stratify=target, random_state=1)"
   ]
  },
  {
   "cell_type": "code",
   "execution_count": 61,
   "metadata": {},
   "outputs": [
    {
     "data": {
      "text/plain": [
       "array([[5.000e+04, 2.000e+00, 2.000e+00, ..., 3.263e+03, 0.000e+00,\n",
       "        0.000e+00],\n",
       "       [2.500e+05, 1.000e+00, 1.000e+00, ..., 6.049e+03, 1.700e+01,\n",
       "        4.980e+03],\n",
       "       [1.000e+05, 2.000e+00, 1.000e+00, ..., 4.000e+03, 2.000e+03,\n",
       "        0.000e+00],\n",
       "       ...,\n",
       "       [2.600e+05, 2.000e+00, 2.000e+00, ..., 7.503e+03, 7.502e+03,\n",
       "        7.500e+03],\n",
       "       [2.000e+04, 1.000e+00, 2.000e+00, ..., 0.000e+00, 0.000e+00,\n",
       "        4.000e+03],\n",
       "       [1.000e+05, 2.000e+00, 2.000e+00, ..., 0.000e+00, 0.000e+00,\n",
       "        0.000e+00]])"
      ]
     },
     "execution_count": 61,
     "metadata": {},
     "output_type": "execute_result"
    }
   ],
   "source": [
    "train_x"
   ]
  },
  {
   "cell_type": "code",
   "execution_count": 75,
   "metadata": {},
   "outputs": [],
   "source": [
    "# struct each classifier\n",
    "classifiers = [SVC(random_state = 1, kernel = 'rbf'),\n",
    "              DecisionTreeClassifier(random_state=1, criterion='gini'),\n",
    "              RandomForestClassifier(random_state=1, criterion='gini'),\n",
    "              KNeighborsClassifier(metric='minkowski')]\n",
    "classifier_names = ['svc', 'decisiontreeclassifier','randomforestclassifier',\n",
    "                    'kneighborsclassifier']\n",
    "classifier_param_grid = [{'svc__C':[1], 'svc__gamma':[0.01]},\n",
    "                         {'decisiontreeclassifier__max_depth':[6,9,11]},\n",
    "                         {'randomforestclassifier__n_estimators':[3,5,6]},\n",
    "                         {'kneighborsclassifier__n_neighbors':[4,6,8]}]"
   ]
  },
  {
   "cell_type": "code",
   "execution_count": 76,
   "metadata": {},
   "outputs": [],
   "source": [
    "def GridSearchCV_work(pipeline, train_x, train_y, test_x, test_y, param_grid, score='accuracy'):\n",
    "    response = {}\n",
    "    gridsearch = GridSearchCV(estimator = pipeline, param_grid = param_grid, scoring = score)\n",
    "    search = gridsearch.fit(train_x, train_y)\n",
    "    print(\"GridSearch 最优参数：\", search.best_params_)\n",
    "    print(\"GridSearch 最优分数：%0.4lf\" % search.best_score_)\n",
    "    predict_y = gridsearch.predict(test_x)\n",
    "    print(\"准确率 %0.4lf\" % accuracy_score(test_y, predict_y))\n",
    "    response['predict_y'] = predict_y\n",
    "    response['accuracy_score'] = accuracy_score(test_y, predict_y)\n",
    "    return response\n",
    "    "
   ]
  },
  {
   "cell_type": "code",
   "execution_count": 78,
   "metadata": {},
   "outputs": [
    {
     "name": "stderr",
     "output_type": "stream",
     "text": [
      "d:\\python\\lib\\site-packages\\sklearn\\model_selection\\_split.py:2053: FutureWarning: You should specify a value for 'cv' instead of relying on the default value. The default value will change from 3 to 5 in version 0.22.\n",
      "  warnings.warn(CV_WARNING, FutureWarning)\n"
     ]
    },
    {
     "name": "stdout",
     "output_type": "stream",
     "text": [
      "GridSearch 最优参数： {'svc__C': 1, 'svc__gamma': 0.01}\n",
      "GridSearch 最优分数：0.8174\n",
      "准确率 0.8172\n"
     ]
    },
    {
     "name": "stderr",
     "output_type": "stream",
     "text": [
      "d:\\python\\lib\\site-packages\\sklearn\\model_selection\\_split.py:2053: FutureWarning: You should specify a value for 'cv' instead of relying on the default value. The default value will change from 3 to 5 in version 0.22.\n",
      "  warnings.warn(CV_WARNING, FutureWarning)\n"
     ]
    },
    {
     "name": "stdout",
     "output_type": "stream",
     "text": [
      "GridSearch 最优参数： {'decisiontreeclassifier__max_depth': 6}\n",
      "GridSearch 最优分数：0.8186\n",
      "准确率 0.8113\n"
     ]
    },
    {
     "name": "stderr",
     "output_type": "stream",
     "text": [
      "d:\\python\\lib\\site-packages\\sklearn\\model_selection\\_split.py:2053: FutureWarning: You should specify a value for 'cv' instead of relying on the default value. The default value will change from 3 to 5 in version 0.22.\n",
      "  warnings.warn(CV_WARNING, FutureWarning)\n"
     ]
    },
    {
     "name": "stdout",
     "output_type": "stream",
     "text": [
      "GridSearch 最优参数： {'randomforestclassifier__n_estimators': 6}\n",
      "GridSearch 最优分数：0.7998\n",
      "准确率 0.7994\n"
     ]
    },
    {
     "name": "stderr",
     "output_type": "stream",
     "text": [
      "d:\\python\\lib\\site-packages\\sklearn\\model_selection\\_split.py:2053: FutureWarning: You should specify a value for 'cv' instead of relying on the default value. The default value will change from 3 to 5 in version 0.22.\n",
      "  warnings.warn(CV_WARNING, FutureWarning)\n"
     ]
    },
    {
     "name": "stdout",
     "output_type": "stream",
     "text": [
      "GridSearch 最优参数： {'kneighborsclassifier__n_neighbors': 8}\n",
      "GridSearch 最优分数：0.8040\n",
      "准确率 0.8036\n"
     ]
    }
   ],
   "source": [
    "for model, model_name, model_param_grid in zip(classifiers, classifier_names, classifier_param_grid):\n",
    "    pipeline = Pipeline([\n",
    "                        ('scaler', StandardScaler()),\n",
    "                        (model_name, model)\n",
    "                        ])\n",
    "    result = GridSearchCV_work(pipeline, train_x, train_y, test_x, test_y, model_param_grid, score='accuracy')"
   ]
  },
  {
   "cell_type": "code",
   "execution_count": null,
   "metadata": {},
   "outputs": [],
   "source": []
  },
  {
   "cell_type": "code",
   "execution_count": null,
   "metadata": {},
   "outputs": [],
   "source": []
  },
  {
   "cell_type": "code",
   "execution_count": null,
   "metadata": {},
   "outputs": [],
   "source": []
  },
  {
   "cell_type": "code",
   "execution_count": null,
   "metadata": {},
   "outputs": [],
   "source": []
  },
  {
   "cell_type": "code",
   "execution_count": null,
   "metadata": {},
   "outputs": [],
   "source": []
  },
  {
   "cell_type": "code",
   "execution_count": null,
   "metadata": {},
   "outputs": [],
   "source": []
  },
  {
   "cell_type": "code",
   "execution_count": null,
   "metadata": {},
   "outputs": [],
   "source": []
  },
  {
   "cell_type": "code",
   "execution_count": null,
   "metadata": {},
   "outputs": [],
   "source": []
  }
 ],
 "metadata": {
  "kernelspec": {
   "display_name": "Python 3",
   "language": "python",
   "name": "python3"
  },
  "language_info": {
   "codemirror_mode": {
    "name": "ipython",
    "version": 3
   },
   "file_extension": ".py",
   "mimetype": "text/x-python",
   "name": "python",
   "nbconvert_exporter": "python",
   "pygments_lexer": "ipython3",
   "version": "3.7.1"
  }
 },
 "nbformat": 4,
 "nbformat_minor": 2
}
